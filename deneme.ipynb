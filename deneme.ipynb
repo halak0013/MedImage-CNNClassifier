{
 "cells": [
  {
   "cell_type": "code",
   "execution_count": 1,
   "id": "67aac832",
   "metadata": {},
   "outputs": [],
   "source": [
    "import numpy as np\n",
    "from PIL import Image\n",
    "import torch\n",
    "import torch.nn as nn\n",
    "import torch.nn.functional as F\n",
    "import torch.optim as optim\n",
    "\n",
    "import torchvision\n",
    "import torchvision.transforms as transforms"
   ]
  },
  {
   "cell_type": "code",
   "execution_count": 2,
   "id": "c02ebf6e",
   "metadata": {},
   "outputs": [],
   "source": [
    "transform = transforms.Compose(\n",
    "    [\n",
    "        transforms.ToTensor(),\n",
    "        transforms.Normalize(mean=(0.5, 0.5, 0.5), std=(0.5, 0.5, 0.5)),\n",
    "    ]\n",
    ")"
   ]
  },
  {
   "cell_type": "code",
   "execution_count": 4,
   "id": "5f3f4818",
   "metadata": {},
   "outputs": [],
   "source": [
    "train_data = torchvision.datasets.CIFAR10(root=\"./data\", train=True, transform=transform, download=True)\n",
    "test_data = torchvision.datasets.CIFAR10(root=\"./data\", train=False, transform=transform, download=True)\n",
    "\n",
    "train_loader = torch.utils.data.DataLoader(dataset=train_data, batch_size=32, shuffle=True, num_workers=10)\n",
    "test_loader = torch.utils.data.DataLoader(dataset=test_data, batch_size=32, shuffle=True, num_workers=10)"
   ]
  },
  {
   "cell_type": "code",
   "execution_count": 6,
   "id": "66d46d5b",
   "metadata": {},
   "outputs": [
    {
     "data": {
      "text/plain": [
       "torch.Size([3, 32, 32])"
      ]
     },
     "execution_count": 6,
     "metadata": {},
     "output_type": "execute_result"
    }
   ],
   "source": [
    "image, label = train_data[0]\n",
    "image.size()"
   ]
  },
  {
   "cell_type": "code",
   "execution_count": 7,
   "id": "c3863fe6",
   "metadata": {},
   "outputs": [],
   "source": [
    "class_names = ['plane', 'car', 'bird', 'cat', 'deer', 'dog', 'frog', 'horse', 'ship', 'truck']"
   ]
  },
  {
   "cell_type": "code",
   "execution_count": 8,
   "id": "fae72103",
   "metadata": {},
   "outputs": [],
   "source": [
    "class NeuralNetwork(nn.Module):\n",
    "    def __init__(self):\n",
    "        super().__init__()\n",
    "\n",
    "        KERNE_SIZE= 5\n",
    "        self.conv1 = nn.Conv2d(3, 12, KERNE_SIZE)\n",
    "        self.conv2 = nn.Conv2d(12, 24, KERNE_SIZE)\n",
    "        self.pool = nn.MaxPool2d(2,2)\n",
    "\n",
    "        self.fc1 = nn.Linear(24 * 5 * 5, 120)\n",
    "        self.fc2 = nn.Linear(120, 81)\n",
    "        self.fc3 = nn.Linear(81, 10)\n",
    "\n",
    "    def forward(self,x):\n",
    "        x = self.pool(F.relu(self.conv1(x)))\n",
    "        x = self.pool(F.relu(self.conv2(x)))\n",
    "\n",
    "        x = torch.flatten(x, 1)\n",
    "\n",
    "        x = F.relu(self.fc1(x))\n",
    "        x = F.relu(self.fc2(x))\n",
    "        x = self.fc3(x)\n",
    "        \n",
    "        return x"
   ]
  },
  {
   "cell_type": "code",
   "execution_count": 9,
   "id": "a223dafd",
   "metadata": {},
   "outputs": [],
   "source": [
    "net = NeuralNetwork()\n",
    "loss_funtion = nn.CrossEntropyLoss()\n",
    "optimizer = optim.SGD(net.parameters(), lr=0.001, momentum=0.9)"
   ]
  },
  {
   "cell_type": "code",
   "execution_count": 11,
   "id": "c47832e2",
   "metadata": {},
   "outputs": [
    {
     "name": "stdout",
     "output_type": "stream",
     "text": [
      "eğitim 0...\n",
      "eğitim 1...\n",
      "eğitim 2...\n",
      "eğitim 3...\n",
      "eğitim 4...\n",
      "eğitim 5...\n",
      "eğitim 6...\n",
      "eğitim 7...\n",
      "eğitim 8...\n",
      "eğitim 9...\n",
      "eğitim 10...\n",
      "eğitim 11...\n",
      "eğitim 12...\n",
      "eğitim 13...\n",
      "eğitim 14...\n",
      "eğitim 15...\n",
      "eğitim 16...\n",
      "eğitim 17...\n",
      "eğitim 18...\n",
      "eğitim 19...\n",
      "eğitim 20...\n",
      "eğitim 21...\n",
      "eğitim 22...\n",
      "eğitim 23...\n",
      "eğitim 24...\n",
      "eğitim 25...\n",
      "eğitim 26...\n",
      "eğitim 27...\n",
      "eğitim 28...\n",
      "eğitim 29...\n",
      "loss: 0.3972\n"
     ]
    }
   ],
   "source": [
    "for epoch in range(30):\n",
    "    print(f\"eğitim {epoch}...\")\n",
    "\n",
    "    running_loss = 0\n",
    "    \n",
    "    for i, data in enumerate(train_loader):\n",
    "        inputs, labels = data\n",
    "\n",
    "        optimizer.zero_grad()\n",
    "\n",
    "        outputs = net(inputs)\n",
    "\n",
    "        loss = loss_funtion(outputs, labels)\n",
    "        loss.backward()\n",
    "        optimizer.step()\n",
    "\n",
    "        running_loss += loss.item()\n",
    "\n",
    "print(f\"loss: {running_loss / len(train_loader):.4}\")"
   ]
  },
  {
   "cell_type": "code",
   "execution_count": 12,
   "id": "5842b206",
   "metadata": {},
   "outputs": [],
   "source": [
    "torch.save(net.state_dict(), \"eguitilmis_veri.pth\")"
   ]
  },
  {
   "cell_type": "code",
   "execution_count": 13,
   "id": "6b218e2d",
   "metadata": {},
   "outputs": [
    {
     "data": {
      "text/plain": [
       "<All keys matched successfully>"
      ]
     },
     "execution_count": 13,
     "metadata": {},
     "output_type": "execute_result"
    }
   ],
   "source": [
    "net = NeuralNetwork()\n",
    "net.load_state_dict(torch.load(\"eguitilmis_veri.pth\"))"
   ]
  },
  {
   "cell_type": "code",
   "execution_count": 17,
   "id": "50d278fb",
   "metadata": {},
   "outputs": [
    {
     "name": "stdout",
     "output_type": "stream",
     "text": [
      "Doğruluk: 68.4\n"
     ]
    }
   ],
   "source": [
    "correct = 0\n",
    "total = 0\n",
    "\n",
    "net.eval()\n",
    "\n",
    "with torch.no_grad():\n",
    "    for data in test_loader:\n",
    "        images, labels = data\n",
    "        outputs = net(images)\n",
    "        _, pridicted = torch.max(outputs, 1)\n",
    "        total += labels.size(0)\n",
    "        correct += (pridicted == labels).sum().item()\n",
    "\n",
    "\n",
    "accuracy = 100 * correct / total\n",
    "\n",
    "print(f\"Doğruluk: {accuracy}\")"
   ]
  },
  {
   "cell_type": "code",
   "execution_count": 19,
   "id": "4d92bec3",
   "metadata": {},
   "outputs": [
    {
     "name": "stdout",
     "output_type": "stream",
     "text": [
      "tahmin: dog\n",
      "tahmin: plane\n"
     ]
    }
   ],
   "source": [
    "new_trasform = transforms.Compose([\n",
    "    transforms.Resize((32,32)),\n",
    "    transforms.ToTensor(),\n",
    "    transforms.Normalize((0.5, 0.5, 0.5), (0.5, 0.5, 0.5))\n",
    "])\n",
    "\n",
    "def load_image(image_path):\n",
    "    image = Image.open(image_path)\n",
    "    image = new_trasform(image)\n",
    "    image = image.unsqueeze(0)\n",
    "\n",
    "    return image\n",
    "\n",
    "\n",
    "image_path = [\"kedi.png\", \"ucak.png\"]\n",
    "images = [load_image(img) for img in image_path]\n",
    "\n",
    "net.eval()\n",
    "\n",
    "with torch.no_grad():\n",
    "    for image in images:\n",
    "        output = net(image)\n",
    "        _, pridicted = torch.max(output, 1)\n",
    "        print(f\"tahmin: {class_names[pridicted.item()]}\")"
   ]
  }
 ],
 "metadata": {
  "kernelspec": {
   "display_name": "d2l",
   "language": "python",
   "name": "python3"
  },
  "language_info": {
   "codemirror_mode": {
    "name": "ipython",
    "version": 3
   },
   "file_extension": ".py",
   "mimetype": "text/x-python",
   "name": "python",
   "nbconvert_exporter": "python",
   "pygments_lexer": "ipython3",
   "version": "3.9.21"
  }
 },
 "nbformat": 4,
 "nbformat_minor": 5
}
